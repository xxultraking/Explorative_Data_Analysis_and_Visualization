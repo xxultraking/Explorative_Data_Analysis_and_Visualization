{
 "cells": [
  {
   "cell_type": "markdown",
   "metadata": {},
   "source": [
    "# Exploratory data analysis (EDA) of apartments data"
   ]
  },
  {
   "cell_type": "markdown",
   "metadata": {},
   "source": [
    "## Libraries and settings"
   ]
  },
  {
   "cell_type": "code",
   "execution_count": 1,
   "metadata": {},
   "outputs": [
    {
     "name": "stdout",
     "output_type": "stream",
     "text": [
      "/workspaces/Explorative_Data_Analysis_and_Visualization\n"
     ]
    }
   ],
   "source": [
    "# Libraries\n",
    "import os\n",
    "import pandas as pd\n",
    "import numpy as np\n",
    "import seaborn as sns\n",
    "import matplotlib.pyplot as plt\n",
    "import statsmodels.api as sm\n",
    "import pylab as py\n",
    "\n",
    "# seaborn graphics settings\n",
    "sns.set(color_codes=True)\n",
    "\n",
    "# Ignore warnings\n",
    "import warnings\n",
    "warnings.filterwarnings(\"ignore\")\n",
    "\n",
    "# Show current working directory\n",
    "print(os.getcwd())"
   ]
  },
  {
   "cell_type": "markdown",
   "metadata": {},
   "source": [
    "## Univariate non-graphical exploratory data analysis (EDA)"
   ]
  },
  {
   "cell_type": "markdown",
   "metadata": {},
   "source": [
    "### Importing the enriched apartment data"
   ]
  },
  {
   "cell_type": "code",
   "execution_count": 2,
   "metadata": {},
   "outputs": [
    {
     "data": {
      "text/html": [
       "<div>\n",
       "<style scoped>\n",
       "    .dataframe tbody tr th:only-of-type {\n",
       "        vertical-align: middle;\n",
       "    }\n",
       "\n",
       "    .dataframe tbody tr th {\n",
       "        vertical-align: top;\n",
       "    }\n",
       "\n",
       "    .dataframe thead th {\n",
       "        text-align: right;\n",
       "    }\n",
       "</style>\n",
       "<table border=\"1\" class=\"dataframe\">\n",
       "  <thead>\n",
       "    <tr style=\"text-align: right;\">\n",
       "      <th></th>\n",
       "      <th>web-scraper-order</th>\n",
       "      <th>address_raw</th>\n",
       "      <th>lat</th>\n",
       "      <th>lon</th>\n",
       "      <th>bfs_number</th>\n",
       "      <th>bfs_name</th>\n",
       "      <th>rooms</th>\n",
       "      <th>area</th>\n",
       "      <th>luxurious</th>\n",
       "      <th>price</th>\n",
       "      <th>price_per_m2</th>\n",
       "      <th>pop</th>\n",
       "      <th>pop_dens</th>\n",
       "      <th>emp</th>\n",
       "      <th>frg_pct</th>\n",
       "      <th>mean_taxable_income</th>\n",
       "    </tr>\n",
       "  </thead>\n",
       "  <tbody>\n",
       "    <tr>\n",
       "      <th>0</th>\n",
       "      <td>1693998201-1</td>\n",
       "      <td>Neuhusstrasse 6, 8630 Rüti ZH, ZH</td>\n",
       "      <td>47.252171</td>\n",
       "      <td>8.845797</td>\n",
       "      <td>118</td>\n",
       "      <td>Rüti (ZH)</td>\n",
       "      <td>3.0</td>\n",
       "      <td>49.0</td>\n",
       "      <td>0</td>\n",
       "      <td>1441.0</td>\n",
       "      <td>29.41</td>\n",
       "      <td>12286</td>\n",
       "      <td>1221.272366</td>\n",
       "      <td>5053.0</td>\n",
       "      <td>24.841283</td>\n",
       "      <td>65362.042683</td>\n",
       "    </tr>\n",
       "    <tr>\n",
       "      <th>1</th>\n",
       "      <td>1693998233-172</td>\n",
       "      <td>Widacherstrasse 5, 8630 Rüti ZH, ZH</td>\n",
       "      <td>47.252087</td>\n",
       "      <td>8.854919</td>\n",
       "      <td>118</td>\n",
       "      <td>Rüti (ZH)</td>\n",
       "      <td>3.0</td>\n",
       "      <td>111.0</td>\n",
       "      <td>0</td>\n",
       "      <td>2600.0</td>\n",
       "      <td>23.42</td>\n",
       "      <td>12286</td>\n",
       "      <td>1221.272366</td>\n",
       "      <td>5053.0</td>\n",
       "      <td>24.841283</td>\n",
       "      <td>65362.042683</td>\n",
       "    </tr>\n",
       "    <tr>\n",
       "      <th>2</th>\n",
       "      <td>1693998256-331</td>\n",
       "      <td>Widenweg 14, 8630 Rüti ZH, ZH</td>\n",
       "      <td>47.253670</td>\n",
       "      <td>8.853993</td>\n",
       "      <td>118</td>\n",
       "      <td>Rüti (ZH)</td>\n",
       "      <td>3.0</td>\n",
       "      <td>58.0</td>\n",
       "      <td>0</td>\n",
       "      <td>1490.0</td>\n",
       "      <td>25.69</td>\n",
       "      <td>12286</td>\n",
       "      <td>1221.272366</td>\n",
       "      <td>5053.0</td>\n",
       "      <td>24.841283</td>\n",
       "      <td>65362.042683</td>\n",
       "    </tr>\n",
       "    <tr>\n",
       "      <th>3</th>\n",
       "      <td>1693998265-381</td>\n",
       "      <td>Rain 1, 8630 Rüti ZH, ZH</td>\n",
       "      <td>47.259834</td>\n",
       "      <td>8.851705</td>\n",
       "      <td>118</td>\n",
       "      <td>Rüti (ZH)</td>\n",
       "      <td>4.0</td>\n",
       "      <td>118.0</td>\n",
       "      <td>0</td>\n",
       "      <td>3240.0</td>\n",
       "      <td>27.46</td>\n",
       "      <td>12286</td>\n",
       "      <td>1221.272366</td>\n",
       "      <td>5053.0</td>\n",
       "      <td>24.841283</td>\n",
       "      <td>65362.042683</td>\n",
       "    </tr>\n",
       "    <tr>\n",
       "      <th>4</th>\n",
       "      <td>1693998276-419</td>\n",
       "      <td>Bachtelstrasse 24b, 8630 Rüti ZH, ZH</td>\n",
       "      <td>47.266113</td>\n",
       "      <td>8.866872</td>\n",
       "      <td>118</td>\n",
       "      <td>Rüti (ZH)</td>\n",
       "      <td>3.0</td>\n",
       "      <td>66.0</td>\n",
       "      <td>0</td>\n",
       "      <td>1450.0</td>\n",
       "      <td>21.97</td>\n",
       "      <td>12286</td>\n",
       "      <td>1221.272366</td>\n",
       "      <td>5053.0</td>\n",
       "      <td>24.841283</td>\n",
       "      <td>65362.042683</td>\n",
       "    </tr>\n",
       "  </tbody>\n",
       "</table>\n",
       "</div>"
      ],
      "text/plain": [
       "  web-scraper-order                           address_raw        lat  \\\n",
       "0      1693998201-1     Neuhusstrasse 6, 8630 Rüti ZH, ZH  47.252171   \n",
       "1    1693998233-172   Widacherstrasse 5, 8630 Rüti ZH, ZH  47.252087   \n",
       "2    1693998256-331         Widenweg 14, 8630 Rüti ZH, ZH  47.253670   \n",
       "3    1693998265-381              Rain 1, 8630 Rüti ZH, ZH  47.259834   \n",
       "4    1693998276-419  Bachtelstrasse 24b, 8630 Rüti ZH, ZH  47.266113   \n",
       "\n",
       "        lon  bfs_number   bfs_name  rooms   area  luxurious   price  \\\n",
       "0  8.845797         118  Rüti (ZH)    3.0   49.0          0  1441.0   \n",
       "1  8.854919         118  Rüti (ZH)    3.0  111.0          0  2600.0   \n",
       "2  8.853993         118  Rüti (ZH)    3.0   58.0          0  1490.0   \n",
       "3  8.851705         118  Rüti (ZH)    4.0  118.0          0  3240.0   \n",
       "4  8.866872         118  Rüti (ZH)    3.0   66.0          0  1450.0   \n",
       "\n",
       "   price_per_m2    pop     pop_dens     emp    frg_pct  mean_taxable_income  \n",
       "0         29.41  12286  1221.272366  5053.0  24.841283         65362.042683  \n",
       "1         23.42  12286  1221.272366  5053.0  24.841283         65362.042683  \n",
       "2         25.69  12286  1221.272366  5053.0  24.841283         65362.042683  \n",
       "3         27.46  12286  1221.272366  5053.0  24.841283         65362.042683  \n",
       "4         21.97  12286  1221.272366  5053.0  24.841283         65362.042683  "
      ]
     },
     "execution_count": 2,
     "metadata": {},
     "output_type": "execute_result"
    }
   ],
   "source": [
    "# Read and select variables\n",
    "df_orig = pd.read_csv(\"apartments_data_enriched_cleaned.csv\")[['web-scraper-order',\n",
    "                                                                'address_raw',\n",
    "                                                                'lat',\n",
    "                                                                'lon',\n",
    "                                                                'bfs_number',\n",
    "                                                                'bfs_name',\n",
    "                                                                'rooms', \n",
    "                                                                'area', \n",
    "                                                                'luxurious', \n",
    "                                                                'price', \n",
    "                                                                'price_per_m2',\n",
    "                                                                'pop',\n",
    "                                                                'pop_dens',\n",
    "                                                                'emp',\n",
    "                                                                'frg_pct',\n",
    "                                                                'mean_taxable_income']]\n",
    "\n",
    "# Remove duplicates\n",
    "df_orig = df_orig.drop_duplicates()\n",
    "df_orig.head(5)\n",
    "\n",
    "# Remove missing values\n",
    "df = df_orig.dropna()\n",
    "df.head(5)"
   ]
  },
  {
   "cell_type": "markdown",
   "metadata": {},
   "source": [
    "### Quantiles"
   ]
  },
  {
   "cell_type": "code",
   "execution_count": 3,
   "metadata": {},
   "outputs": [
    {
     "data": {
      "text/html": [
       "<div>\n",
       "<style scoped>\n",
       "    .dataframe tbody tr th:only-of-type {\n",
       "        vertical-align: middle;\n",
       "    }\n",
       "\n",
       "    .dataframe tbody tr th {\n",
       "        vertical-align: top;\n",
       "    }\n",
       "\n",
       "    .dataframe thead th {\n",
       "        text-align: right;\n",
       "    }\n",
       "</style>\n",
       "<table border=\"1\" class=\"dataframe\">\n",
       "  <thead>\n",
       "    <tr style=\"text-align: right;\">\n",
       "      <th></th>\n",
       "      <th>price</th>\n",
       "      <th>rooms</th>\n",
       "      <th>area</th>\n",
       "      <th>price_per_m2</th>\n",
       "      <th>pop_dens</th>\n",
       "    </tr>\n",
       "  </thead>\n",
       "  <tbody>\n",
       "    <tr>\n",
       "      <th>0.05</th>\n",
       "      <td>1356.50</td>\n",
       "      <td>1.0</td>\n",
       "      <td>26.00</td>\n",
       "      <td>18.65</td>\n",
       "      <td>340.27</td>\n",
       "    </tr>\n",
       "    <tr>\n",
       "      <th>0.10</th>\n",
       "      <td>1500.00</td>\n",
       "      <td>1.5</td>\n",
       "      <td>43.00</td>\n",
       "      <td>20.36</td>\n",
       "      <td>525.66</td>\n",
       "    </tr>\n",
       "    <tr>\n",
       "      <th>0.25</th>\n",
       "      <td>1849.25</td>\n",
       "      <td>2.5</td>\n",
       "      <td>63.25</td>\n",
       "      <td>23.39</td>\n",
       "      <td>1044.63</td>\n",
       "    </tr>\n",
       "    <tr>\n",
       "      <th>0.50</th>\n",
       "      <td>2390.00</td>\n",
       "      <td>3.5</td>\n",
       "      <td>86.00</td>\n",
       "      <td>27.95</td>\n",
       "      <td>1662.60</td>\n",
       "    </tr>\n",
       "    <tr>\n",
       "      <th>0.75</th>\n",
       "      <td>3027.50</td>\n",
       "      <td>4.5</td>\n",
       "      <td>108.00</td>\n",
       "      <td>38.00</td>\n",
       "      <td>4778.99</td>\n",
       "    </tr>\n",
       "    <tr>\n",
       "      <th>0.90</th>\n",
       "      <td>3964.00</td>\n",
       "      <td>4.5</td>\n",
       "      <td>140.00</td>\n",
       "      <td>51.61</td>\n",
       "      <td>4778.99</td>\n",
       "    </tr>\n",
       "    <tr>\n",
       "      <th>0.95</th>\n",
       "      <td>4970.50</td>\n",
       "      <td>5.5</td>\n",
       "      <td>160.00</td>\n",
       "      <td>64.00</td>\n",
       "      <td>4778.99</td>\n",
       "    </tr>\n",
       "  </tbody>\n",
       "</table>\n",
       "</div>"
      ],
      "text/plain": [
       "        price  rooms    area  price_per_m2  pop_dens\n",
       "0.05  1356.50    1.0   26.00         18.65    340.27\n",
       "0.10  1500.00    1.5   43.00         20.36    525.66\n",
       "0.25  1849.25    2.5   63.25         23.39   1044.63\n",
       "0.50  2390.00    3.5   86.00         27.95   1662.60\n",
       "0.75  3027.50    4.5  108.00         38.00   4778.99\n",
       "0.90  3964.00    4.5  140.00         51.61   4778.99\n",
       "0.95  4970.50    5.5  160.00         64.00   4778.99"
      ]
     },
     "execution_count": 3,
     "metadata": {},
     "output_type": "execute_result"
    }
   ],
   "source": [
    "df[['price','rooms', 'area', 'price_per_m2', 'pop_dens']].quantile(q=[0.05, 0.10, 0.25, 0.50, 0.75, 0.90, 0.95]).round(2)"
   ]
  },
  {
   "cell_type": "markdown",
   "metadata": {},
   "source": [
    "### Shape (number of rows and colums)"
   ]
  },
  {
   "cell_type": "code",
   "execution_count": 4,
   "metadata": {},
   "outputs": [
    {
     "name": "stdout",
     "output_type": "stream",
     "text": [
      "(774, 16)\n"
     ]
    }
   ],
   "source": [
    "# Number of rows and columns\n",
    "print(df.shape)"
   ]
  },
  {
   "cell_type": "markdown",
   "metadata": {},
   "source": [
    "### Data types"
   ]
  },
  {
   "cell_type": "code",
   "execution_count": 5,
   "metadata": {},
   "outputs": [
    {
     "data": {
      "text/plain": [
       "web-scraper-order       object\n",
       "address_raw             object\n",
       "lat                    float64\n",
       "lon                    float64\n",
       "bfs_number               int64\n",
       "bfs_name                object\n",
       "rooms                  float64\n",
       "area                   float64\n",
       "luxurious                int64\n",
       "price                  float64\n",
       "price_per_m2           float64\n",
       "pop                      int64\n",
       "pop_dens               float64\n",
       "emp                    float64\n",
       "frg_pct                float64\n",
       "mean_taxable_income    float64\n",
       "dtype: object"
      ]
     },
     "execution_count": 5,
     "metadata": {},
     "output_type": "execute_result"
    }
   ],
   "source": [
    "df.dtypes"
   ]
  },
  {
   "cell_type": "markdown",
   "metadata": {},
   "source": [
    "### Summary statistics of numeric variables"
   ]
  },
  {
   "cell_type": "code",
   "execution_count": 6,
   "metadata": {},
   "outputs": [
    {
     "data": {
      "text/html": [
       "<div>\n",
       "<style scoped>\n",
       "    .dataframe tbody tr th:only-of-type {\n",
       "        vertical-align: middle;\n",
       "    }\n",
       "\n",
       "    .dataframe tbody tr th {\n",
       "        vertical-align: top;\n",
       "    }\n",
       "\n",
       "    .dataframe thead th {\n",
       "        text-align: right;\n",
       "    }\n",
       "</style>\n",
       "<table border=\"1\" class=\"dataframe\">\n",
       "  <thead>\n",
       "    <tr style=\"text-align: right;\">\n",
       "      <th></th>\n",
       "      <th>lat</th>\n",
       "      <th>lon</th>\n",
       "      <th>bfs_number</th>\n",
       "      <th>rooms</th>\n",
       "      <th>area</th>\n",
       "      <th>luxurious</th>\n",
       "      <th>price</th>\n",
       "      <th>price_per_m2</th>\n",
       "      <th>pop</th>\n",
       "      <th>pop_dens</th>\n",
       "      <th>emp</th>\n",
       "      <th>frg_pct</th>\n",
       "      <th>mean_taxable_income</th>\n",
       "    </tr>\n",
       "  </thead>\n",
       "  <tbody>\n",
       "    <tr>\n",
       "      <th>count</th>\n",
       "      <td>774.000000</td>\n",
       "      <td>774.000000</td>\n",
       "      <td>774.000000</td>\n",
       "      <td>774.000000</td>\n",
       "      <td>774.000000</td>\n",
       "      <td>774.000000</td>\n",
       "      <td>774.000000</td>\n",
       "      <td>774.000000</td>\n",
       "      <td>774.000000</td>\n",
       "      <td>774.000000</td>\n",
       "      <td>774.000000</td>\n",
       "      <td>774.000000</td>\n",
       "      <td>774.000000</td>\n",
       "    </tr>\n",
       "    <tr>\n",
       "      <th>mean</th>\n",
       "      <td>47.407658</td>\n",
       "      <td>8.600456</td>\n",
       "      <td>186.255814</td>\n",
       "      <td>3.417959</td>\n",
       "      <td>88.899225</td>\n",
       "      <td>0.011628</td>\n",
       "      <td>2652.958656</td>\n",
       "      <td>32.857817</td>\n",
       "      <td>159277.266150</td>\n",
       "      <td>2489.306724</td>\n",
       "      <td>174995.766150</td>\n",
       "      <td>27.791852</td>\n",
       "      <td>80502.925758</td>\n",
       "    </tr>\n",
       "    <tr>\n",
       "      <th>std</th>\n",
       "      <td>0.085577</td>\n",
       "      <td>0.117768</td>\n",
       "      <td>81.548986</td>\n",
       "      <td>1.282049</td>\n",
       "      <td>39.508987</td>\n",
       "      <td>0.107273</td>\n",
       "      <td>1281.909438</td>\n",
       "      <td>14.886219</td>\n",
       "      <td>185867.397397</td>\n",
       "      <td>1741.332294</td>\n",
       "      <td>222830.654294</td>\n",
       "      <td>7.566620</td>\n",
       "      <td>14401.535269</td>\n",
       "    </tr>\n",
       "    <tr>\n",
       "      <th>min</th>\n",
       "      <td>47.195290</td>\n",
       "      <td>8.367652</td>\n",
       "      <td>1.000000</td>\n",
       "      <td>1.000000</td>\n",
       "      <td>8.000000</td>\n",
       "      <td>0.000000</td>\n",
       "      <td>86.000000</td>\n",
       "      <td>10.750000</td>\n",
       "      <td>698.000000</td>\n",
       "      <td>87.959866</td>\n",
       "      <td>129.000000</td>\n",
       "      <td>7.547170</td>\n",
       "      <td>62000.541872</td>\n",
       "    </tr>\n",
       "    <tr>\n",
       "      <th>25%</th>\n",
       "      <td>47.361180</td>\n",
       "      <td>8.517483</td>\n",
       "      <td>121.000000</td>\n",
       "      <td>2.500000</td>\n",
       "      <td>63.250000</td>\n",
       "      <td>0.000000</td>\n",
       "      <td>1849.250000</td>\n",
       "      <td>23.390000</td>\n",
       "      <td>8775.000000</td>\n",
       "      <td>1044.628957</td>\n",
       "      <td>3460.000000</td>\n",
       "      <td>24.535004</td>\n",
       "      <td>70988.017354</td>\n",
       "    </tr>\n",
       "    <tr>\n",
       "      <th>50%</th>\n",
       "      <td>47.396210</td>\n",
       "      <td>8.563061</td>\n",
       "      <td>230.000000</td>\n",
       "      <td>3.500000</td>\n",
       "      <td>86.000000</td>\n",
       "      <td>0.000000</td>\n",
       "      <td>2390.000000</td>\n",
       "      <td>27.950000</td>\n",
       "      <td>27746.000000</td>\n",
       "      <td>1662.597326</td>\n",
       "      <td>19226.000000</td>\n",
       "      <td>28.043732</td>\n",
       "      <td>80595.528256</td>\n",
       "    </tr>\n",
       "    <tr>\n",
       "      <th>75%</th>\n",
       "      <td>47.481299</td>\n",
       "      <td>8.711050</td>\n",
       "      <td>261.000000</td>\n",
       "      <td>4.500000</td>\n",
       "      <td>108.000000</td>\n",
       "      <td>0.000000</td>\n",
       "      <td>3027.500000</td>\n",
       "      <td>38.005000</td>\n",
       "      <td>420217.000000</td>\n",
       "      <td>4778.994655</td>\n",
       "      <td>491193.000000</td>\n",
       "      <td>32.458468</td>\n",
       "      <td>82932.737704</td>\n",
       "    </tr>\n",
       "    <tr>\n",
       "      <th>max</th>\n",
       "      <td>47.693893</td>\n",
       "      <td>8.915933</td>\n",
       "      <td>298.000000</td>\n",
       "      <td>8.500000</td>\n",
       "      <td>282.000000</td>\n",
       "      <td>1.000000</td>\n",
       "      <td>9950.000000</td>\n",
       "      <td>100.000000</td>\n",
       "      <td>420217.000000</td>\n",
       "      <td>4778.994655</td>\n",
       "      <td>491193.000000</td>\n",
       "      <td>46.226483</td>\n",
       "      <td>174434.537050</td>\n",
       "    </tr>\n",
       "  </tbody>\n",
       "</table>\n",
       "</div>"
      ],
      "text/plain": [
       "              lat         lon  bfs_number       rooms        area   luxurious  \\\n",
       "count  774.000000  774.000000  774.000000  774.000000  774.000000  774.000000   \n",
       "mean    47.407658    8.600456  186.255814    3.417959   88.899225    0.011628   \n",
       "std      0.085577    0.117768   81.548986    1.282049   39.508987    0.107273   \n",
       "min     47.195290    8.367652    1.000000    1.000000    8.000000    0.000000   \n",
       "25%     47.361180    8.517483  121.000000    2.500000   63.250000    0.000000   \n",
       "50%     47.396210    8.563061  230.000000    3.500000   86.000000    0.000000   \n",
       "75%     47.481299    8.711050  261.000000    4.500000  108.000000    0.000000   \n",
       "max     47.693893    8.915933  298.000000    8.500000  282.000000    1.000000   \n",
       "\n",
       "             price  price_per_m2            pop     pop_dens            emp  \\\n",
       "count   774.000000    774.000000     774.000000   774.000000     774.000000   \n",
       "mean   2652.958656     32.857817  159277.266150  2489.306724  174995.766150   \n",
       "std    1281.909438     14.886219  185867.397397  1741.332294  222830.654294   \n",
       "min      86.000000     10.750000     698.000000    87.959866     129.000000   \n",
       "25%    1849.250000     23.390000    8775.000000  1044.628957    3460.000000   \n",
       "50%    2390.000000     27.950000   27746.000000  1662.597326   19226.000000   \n",
       "75%    3027.500000     38.005000  420217.000000  4778.994655  491193.000000   \n",
       "max    9950.000000    100.000000  420217.000000  4778.994655  491193.000000   \n",
       "\n",
       "          frg_pct  mean_taxable_income  \n",
       "count  774.000000           774.000000  \n",
       "mean    27.791852         80502.925758  \n",
       "std      7.566620         14401.535269  \n",
       "min      7.547170         62000.541872  \n",
       "25%     24.535004         70988.017354  \n",
       "50%     28.043732         80595.528256  \n",
       "75%     32.458468         82932.737704  \n",
       "max     46.226483        174434.537050  "
      ]
     },
     "execution_count": 6,
     "metadata": {},
     "output_type": "execute_result"
    }
   ],
   "source": [
    "df.describe()\n"
   ]
  },
  {
   "cell_type": "markdown",
   "metadata": {},
   "source": [
    "### Statistical measures (min, max, std, mean, median, count) for selected variables"
   ]
  },
  {
   "cell_type": "code",
   "execution_count": 7,
   "metadata": {},
   "outputs": [
    {
     "name": "stdout",
     "output_type": "stream",
     "text": [
      "Price: Count: 774 Min: 86.0 Max: 9950.0 Mean: 2653.0 Median: 2390.0 Std: 1281.9\n",
      "Area: Count: 774 Min: 8.0 Max: 282.0 Mean: 88.9 Median: 86.0 Std: 39.5\n"
     ]
    }
   ],
   "source": [
    "# Price\n",
    "print('Price:',\n",
    "      'Count:', round(df.price.count(), 1),\n",
    "      'Min:', round(df.price.min(), 1),\n",
    "      'Max:', round(df.price.max(), 1),\n",
    "      'Mean:', round(df.price.mean(), 1),\n",
    "      'Median:', round(df.price.median(), 1),\n",
    "      'Std:', round(df.price.std(), 1))\n",
    "\n",
    "# Area\n",
    "print('Area:',\n",
    "      'Count:', round(df.area.count(), 1),\n",
    "      'Min:', round(df.area.min(), 1),\n",
    "      'Max:', round(df.area.max(), 1),\n",
    "      'Mean:', round(df.area.mean(), 1),\n",
    "      'Median:', round(df.area.median(), 1),\n",
    "      'Std:', round(df.area.std(), 1))"
   ]
  },
  {
   "cell_type": "markdown",
   "metadata": {},
   "source": [
    "### Skewness"
   ]
  },
  {
   "cell_type": "code",
   "execution_count": 8,
   "metadata": {},
   "outputs": [
    {
     "data": {
      "text/plain": [
       "price    2.182259\n",
       "rooms    0.194969\n",
       "area     0.888217\n",
       "dtype: float64"
      ]
     },
     "execution_count": 8,
     "metadata": {},
     "output_type": "execute_result"
    }
   ],
   "source": [
    "df[['price','rooms', 'area']].skew()"
   ]
  },
  {
   "cell_type": "markdown",
   "metadata": {},
   "source": [
    "### Kurtosis"
   ]
  },
  {
   "cell_type": "code",
   "execution_count": 9,
   "metadata": {},
   "outputs": [
    {
     "data": {
      "text/plain": [
       "price    6.933243\n",
       "rooms    0.146377\n",
       "area     1.963584\n",
       "dtype: float64"
      ]
     },
     "execution_count": 9,
     "metadata": {},
     "output_type": "execute_result"
    }
   ],
   "source": [
    "df[['price','rooms', 'area']].kurtosis()"
   ]
  },
  {
   "cell_type": "markdown",
   "metadata": {},
   "source": [
    "### Extreme values"
   ]
  },
  {
   "cell_type": "code",
   "execution_count": 10,
   "metadata": {},
   "outputs": [
    {
     "data": {
      "text/html": [
       "<div>\n",
       "<style scoped>\n",
       "    .dataframe tbody tr th:only-of-type {\n",
       "        vertical-align: middle;\n",
       "    }\n",
       "\n",
       "    .dataframe tbody tr th {\n",
       "        vertical-align: top;\n",
       "    }\n",
       "\n",
       "    .dataframe thead th {\n",
       "        text-align: right;\n",
       "    }\n",
       "</style>\n",
       "<table border=\"1\" class=\"dataframe\">\n",
       "  <thead>\n",
       "    <tr style=\"text-align: right;\">\n",
       "      <th></th>\n",
       "      <th>web-scraper-order</th>\n",
       "      <th>address_raw</th>\n",
       "      <th>lat</th>\n",
       "      <th>lon</th>\n",
       "      <th>bfs_number</th>\n",
       "      <th>bfs_name</th>\n",
       "      <th>rooms</th>\n",
       "      <th>area</th>\n",
       "      <th>luxurious</th>\n",
       "      <th>price</th>\n",
       "      <th>price_per_m2</th>\n",
       "      <th>pop</th>\n",
       "      <th>pop_dens</th>\n",
       "      <th>emp</th>\n",
       "      <th>frg_pct</th>\n",
       "      <th>mean_taxable_income</th>\n",
       "    </tr>\n",
       "  </thead>\n",
       "  <tbody>\n",
       "  </tbody>\n",
       "</table>\n",
       "</div>"
      ],
      "text/plain": [
       "Empty DataFrame\n",
       "Columns: [web-scraper-order, address_raw, lat, lon, bfs_number, bfs_name, rooms, area, luxurious, price, price_per_m2, pop, pop_dens, emp, frg_pct, mean_taxable_income]\n",
       "Index: []"
      ]
     },
     "execution_count": 10,
     "metadata": {},
     "output_type": "execute_result"
    }
   ],
   "source": [
    "# Low costs apartments\n",
    "df[df['price_per_m2'] <= 10]"
   ]
  },
  {
   "cell_type": "code",
   "execution_count": 11,
   "metadata": {},
   "outputs": [
    {
     "data": {
      "text/html": [
       "<div>\n",
       "<style scoped>\n",
       "    .dataframe tbody tr th:only-of-type {\n",
       "        vertical-align: middle;\n",
       "    }\n",
       "\n",
       "    .dataframe tbody tr th {\n",
       "        vertical-align: top;\n",
       "    }\n",
       "\n",
       "    .dataframe thead th {\n",
       "        text-align: right;\n",
       "    }\n",
       "</style>\n",
       "<table border=\"1\" class=\"dataframe\">\n",
       "  <thead>\n",
       "    <tr style=\"text-align: right;\">\n",
       "      <th></th>\n",
       "      <th>web-scraper-order</th>\n",
       "      <th>address_raw</th>\n",
       "      <th>lat</th>\n",
       "      <th>lon</th>\n",
       "      <th>bfs_number</th>\n",
       "      <th>bfs_name</th>\n",
       "      <th>rooms</th>\n",
       "      <th>area</th>\n",
       "      <th>luxurious</th>\n",
       "      <th>price</th>\n",
       "      <th>price_per_m2</th>\n",
       "      <th>pop</th>\n",
       "      <th>pop_dens</th>\n",
       "      <th>emp</th>\n",
       "      <th>frg_pct</th>\n",
       "      <th>mean_taxable_income</th>\n",
       "    </tr>\n",
       "  </thead>\n",
       "  <tbody>\n",
       "    <tr>\n",
       "      <th>150</th>\n",
       "      <td>1693998305-585</td>\n",
       "      <td>Steinstrasse 35, 8003 Zürich, ZH</td>\n",
       "      <td>47.366997</td>\n",
       "      <td>8.520324</td>\n",
       "      <td>261</td>\n",
       "      <td>Zürich</td>\n",
       "      <td>1.0</td>\n",
       "      <td>15.0</td>\n",
       "      <td>0</td>\n",
       "      <td>1500.0</td>\n",
       "      <td>100.0</td>\n",
       "      <td>420217</td>\n",
       "      <td>4778.994655</td>\n",
       "      <td>491193.0</td>\n",
       "      <td>32.458468</td>\n",
       "      <td>82932.737704</td>\n",
       "    </tr>\n",
       "  </tbody>\n",
       "</table>\n",
       "</div>"
      ],
      "text/plain": [
       "    web-scraper-order                       address_raw        lat       lon  \\\n",
       "150    1693998305-585  Steinstrasse 35, 8003 Zürich, ZH  47.366997  8.520324   \n",
       "\n",
       "     bfs_number bfs_name  rooms  area  luxurious   price  price_per_m2  \\\n",
       "150         261   Zürich    1.0  15.0          0  1500.0         100.0   \n",
       "\n",
       "        pop     pop_dens       emp    frg_pct  mean_taxable_income  \n",
       "150  420217  4778.994655  491193.0  32.458468         82932.737704  "
      ]
     },
     "execution_count": 11,
     "metadata": {},
     "output_type": "execute_result"
    }
   ],
   "source": [
    "# Very expensive apartments\n",
    "df[df['price_per_m2'] >= 100]"
   ]
  },
  {
   "cell_type": "markdown",
   "metadata": {},
   "source": [
    "### Get a list of categories of categorical variable"
   ]
  },
  {
   "cell_type": "code",
   "execution_count": 12,
   "metadata": {},
   "outputs": [
    {
     "data": {
      "text/plain": [
       "array(['Adliswil', 'Aeugst am Albis', 'Affoltern am Albis', 'Altikon',\n",
       "       'Andelfingen', 'Bachenbülach', 'Bassersdorf', 'Bauma',\n",
       "       'Bonstetten', 'Brütten', 'Bülach', 'Dielsdorf', 'Dietikon',\n",
       "       'Dietlikon', 'Dättlikon', 'Dübendorf', 'Dürnten', 'Egg', 'Eglisau',\n",
       "       'Elsau', 'Embrach', 'Fehraltorf', 'Feuerthalen',\n",
       "       'Freienstein-Teufen', 'Fällanden', 'Glattfelden', 'Gossau (ZH)',\n",
       "       'Greifensee', 'Hausen am Albis', 'Hedingen', 'Herrliberg',\n",
       "       'Hettlingen', 'Hinwil', 'Hittnau', 'Hochfelden', 'Hombrechtikon',\n",
       "       'Höri', 'Hüttikon', 'Kloten', 'Knonau', 'Küsnacht (ZH)',\n",
       "       'Langnau am Albis', 'Laufen-Uhwiesen', 'Lindau', 'Lufingen',\n",
       "       'Maur', 'Meilen', 'Mettmenstetten', 'Männedorf', 'Mönchaltorf',\n",
       "       'Neerach', 'Neftenbach', 'Niederglatt', 'Niederhasli',\n",
       "       'Niederweningen', 'Nürensdorf', 'Oberengstringen', 'Oberglatt',\n",
       "       'Obfelden', 'Oetwil am See', 'Oetwil an der Limmat', 'Opfikon',\n",
       "       'Ossingen', 'Pfungen', 'Pfäffikon', 'Regensdorf', 'Rheinau',\n",
       "       'Richterswil', 'Rickenbach (ZH)', 'Rorbas', 'Russikon', 'Rümlang',\n",
       "       'Rüschlikon', 'Rüti (ZH)', 'Schlatt (ZH)', 'Schlieren',\n",
       "       'Schwerzenbach', 'Seuzach', 'Stadel', 'Stallikon', 'Steinmaur',\n",
       "       'Stäfa', 'Thalwil', 'Trüllikon', 'Uitikon', 'Urdorf', 'Uster',\n",
       "       'Volketswil', 'Wald (ZH)', 'Wallisellen', 'Wangen-Brüttisellen',\n",
       "       'Weiach', 'Weiningen (ZH)', 'Wettswil am Albis', 'Wetzikon (ZH)',\n",
       "       'Wiesendangen', 'Wila', 'Winkel', 'Winterthur', 'Zell (ZH)',\n",
       "       'Zollikon', 'Zürich'], dtype=object)"
      ]
     },
     "execution_count": 12,
     "metadata": {},
     "output_type": "execute_result"
    }
   ],
   "source": [
    "np.array(pd.Categorical(df['bfs_name']).categories)"
   ]
  },
  {
   "cell_type": "markdown",
   "metadata": {},
   "source": [
    "## Multivariate non-graphical exploratory data analysis (EDA)"
   ]
  },
  {
   "cell_type": "markdown",
   "metadata": {},
   "source": [
    "### Cross-tabulation"
   ]
  },
  {
   "cell_type": "code",
   "execution_count": 13,
   "metadata": {},
   "outputs": [
    {
     "data": {
      "text/html": [
       "<div>\n",
       "<style scoped>\n",
       "    .dataframe tbody tr th:only-of-type {\n",
       "        vertical-align: middle;\n",
       "    }\n",
       "\n",
       "    .dataframe tbody tr th {\n",
       "        vertical-align: top;\n",
       "    }\n",
       "\n",
       "    .dataframe thead th {\n",
       "        text-align: right;\n",
       "    }\n",
       "</style>\n",
       "<table border=\"1\" class=\"dataframe\">\n",
       "  <thead>\n",
       "    <tr style=\"text-align: right;\">\n",
       "      <th>rooms</th>\n",
       "      <th>1.0</th>\n",
       "      <th>1.5</th>\n",
       "      <th>2.0</th>\n",
       "      <th>2.5</th>\n",
       "      <th>3.0</th>\n",
       "      <th>3.5</th>\n",
       "      <th>4.0</th>\n",
       "      <th>4.5</th>\n",
       "      <th>5.0</th>\n",
       "      <th>5.5</th>\n",
       "      <th>6.0</th>\n",
       "      <th>6.5</th>\n",
       "      <th>7.0</th>\n",
       "      <th>7.5</th>\n",
       "      <th>8.5</th>\n",
       "    </tr>\n",
       "    <tr>\n",
       "      <th>luxurious</th>\n",
       "      <th></th>\n",
       "      <th></th>\n",
       "      <th></th>\n",
       "      <th></th>\n",
       "      <th></th>\n",
       "      <th></th>\n",
       "      <th></th>\n",
       "      <th></th>\n",
       "      <th></th>\n",
       "      <th></th>\n",
       "      <th></th>\n",
       "      <th></th>\n",
       "      <th></th>\n",
       "      <th></th>\n",
       "      <th></th>\n",
       "    </tr>\n",
       "  </thead>\n",
       "  <tbody>\n",
       "    <tr>\n",
       "      <th>0</th>\n",
       "      <td>50</td>\n",
       "      <td>33</td>\n",
       "      <td>38</td>\n",
       "      <td>135</td>\n",
       "      <td>44</td>\n",
       "      <td>200</td>\n",
       "      <td>28</td>\n",
       "      <td>163</td>\n",
       "      <td>3</td>\n",
       "      <td>52</td>\n",
       "      <td>2</td>\n",
       "      <td>11</td>\n",
       "      <td>2</td>\n",
       "      <td>3</td>\n",
       "      <td>1</td>\n",
       "    </tr>\n",
       "    <tr>\n",
       "      <th>1</th>\n",
       "      <td>0</td>\n",
       "      <td>0</td>\n",
       "      <td>0</td>\n",
       "      <td>6</td>\n",
       "      <td>0</td>\n",
       "      <td>3</td>\n",
       "      <td>0</td>\n",
       "      <td>0</td>\n",
       "      <td>0</td>\n",
       "      <td>0</td>\n",
       "      <td>0</td>\n",
       "      <td>0</td>\n",
       "      <td>0</td>\n",
       "      <td>0</td>\n",
       "      <td>0</td>\n",
       "    </tr>\n",
       "  </tbody>\n",
       "</table>\n",
       "</div>"
      ],
      "text/plain": [
       "rooms      1.0  1.5  2.0  2.5  3.0  3.5  4.0  4.5  5.0  5.5  6.0  6.5  7.0  \\\n",
       "luxurious                                                                    \n",
       "0           50   33   38  135   44  200   28  163    3   52    2   11    2   \n",
       "1            0    0    0    6    0    3    0    0    0    0    0    0    0   \n",
       "\n",
       "rooms      7.5  8.5  \n",
       "luxurious            \n",
       "0            3    1  \n",
       "1            0    0  "
      ]
     },
     "execution_count": 13,
     "metadata": {},
     "output_type": "execute_result"
    }
   ],
   "source": [
    "pd.crosstab(df['luxurious'], df['rooms'])"
   ]
  },
  {
   "cell_type": "markdown",
   "metadata": {},
   "source": [
    "### Pivot tables"
   ]
  },
  {
   "cell_type": "code",
   "execution_count": 14,
   "metadata": {},
   "outputs": [
    {
     "data": {
      "text/html": [
       "<div>\n",
       "<style scoped>\n",
       "    .dataframe tbody tr th:only-of-type {\n",
       "        vertical-align: middle;\n",
       "    }\n",
       "\n",
       "    .dataframe tbody tr th {\n",
       "        vertical-align: top;\n",
       "    }\n",
       "\n",
       "    .dataframe thead tr th {\n",
       "        text-align: left;\n",
       "    }\n",
       "\n",
       "    .dataframe thead tr:last-of-type th {\n",
       "        text-align: right;\n",
       "    }\n",
       "</style>\n",
       "<table border=\"1\" class=\"dataframe\">\n",
       "  <thead>\n",
       "    <tr>\n",
       "      <th></th>\n",
       "      <th></th>\n",
       "      <th colspan=\"2\" halign=\"left\">area</th>\n",
       "      <th colspan=\"2\" halign=\"left\">price</th>\n",
       "      <th colspan=\"2\" halign=\"left\">price_per_m2</th>\n",
       "    </tr>\n",
       "    <tr>\n",
       "      <th></th>\n",
       "      <th></th>\n",
       "      <th>count</th>\n",
       "      <th>mean</th>\n",
       "      <th>count</th>\n",
       "      <th>mean</th>\n",
       "      <th>count</th>\n",
       "      <th>mean</th>\n",
       "    </tr>\n",
       "    <tr>\n",
       "      <th>rooms</th>\n",
       "      <th>luxurious</th>\n",
       "      <th></th>\n",
       "      <th></th>\n",
       "      <th></th>\n",
       "      <th></th>\n",
       "      <th></th>\n",
       "      <th></th>\n",
       "    </tr>\n",
       "  </thead>\n",
       "  <tbody>\n",
       "    <tr>\n",
       "      <th>1.0</th>\n",
       "      <th>0</th>\n",
       "      <td>50</td>\n",
       "      <td>32.920000</td>\n",
       "      <td>50</td>\n",
       "      <td>1306.220000</td>\n",
       "      <td>50</td>\n",
       "      <td>47.140400</td>\n",
       "    </tr>\n",
       "    <tr>\n",
       "      <th>1.5</th>\n",
       "      <th>0</th>\n",
       "      <td>33</td>\n",
       "      <td>35.969697</td>\n",
       "      <td>33</td>\n",
       "      <td>1963.515152</td>\n",
       "      <td>33</td>\n",
       "      <td>59.417576</td>\n",
       "    </tr>\n",
       "    <tr>\n",
       "      <th>2.0</th>\n",
       "      <th>0</th>\n",
       "      <td>38</td>\n",
       "      <td>55.184211</td>\n",
       "      <td>38</td>\n",
       "      <td>2120.078947</td>\n",
       "      <td>38</td>\n",
       "      <td>40.757105</td>\n",
       "    </tr>\n",
       "    <tr>\n",
       "      <th rowspan=\"2\" valign=\"top\">2.5</th>\n",
       "      <th>0</th>\n",
       "      <td>135</td>\n",
       "      <td>66.800000</td>\n",
       "      <td>135</td>\n",
       "      <td>2382.755556</td>\n",
       "      <td>135</td>\n",
       "      <td>37.010000</td>\n",
       "    </tr>\n",
       "    <tr>\n",
       "      <th>1</th>\n",
       "      <td>6</td>\n",
       "      <td>72.166667</td>\n",
       "      <td>6</td>\n",
       "      <td>3339.500000</td>\n",
       "      <td>6</td>\n",
       "      <td>45.978333</td>\n",
       "    </tr>\n",
       "    <tr>\n",
       "      <th>3.0</th>\n",
       "      <th>0</th>\n",
       "      <td>44</td>\n",
       "      <td>68.159091</td>\n",
       "      <td>44</td>\n",
       "      <td>1964.022727</td>\n",
       "      <td>44</td>\n",
       "      <td>28.677955</td>\n",
       "    </tr>\n",
       "    <tr>\n",
       "      <th rowspan=\"2\" valign=\"top\">3.5</th>\n",
       "      <th>0</th>\n",
       "      <td>200</td>\n",
       "      <td>89.770000</td>\n",
       "      <td>200</td>\n",
       "      <td>2648.980000</td>\n",
       "      <td>200</td>\n",
       "      <td>29.494700</td>\n",
       "    </tr>\n",
       "    <tr>\n",
       "      <th>1</th>\n",
       "      <td>3</td>\n",
       "      <td>101.666667</td>\n",
       "      <td>3</td>\n",
       "      <td>6036.666667</td>\n",
       "      <td>3</td>\n",
       "      <td>59.826667</td>\n",
       "    </tr>\n",
       "    <tr>\n",
       "      <th>4.0</th>\n",
       "      <th>0</th>\n",
       "      <td>28</td>\n",
       "      <td>98.464286</td>\n",
       "      <td>28</td>\n",
       "      <td>2852.357143</td>\n",
       "      <td>28</td>\n",
       "      <td>29.646429</td>\n",
       "    </tr>\n",
       "    <tr>\n",
       "      <th>4.5</th>\n",
       "      <th>0</th>\n",
       "      <td>163</td>\n",
       "      <td>114.926380</td>\n",
       "      <td>163</td>\n",
       "      <td>3086.570552</td>\n",
       "      <td>163</td>\n",
       "      <td>26.493436</td>\n",
       "    </tr>\n",
       "    <tr>\n",
       "      <th>5.0</th>\n",
       "      <th>0</th>\n",
       "      <td>3</td>\n",
       "      <td>108.000000</td>\n",
       "      <td>3</td>\n",
       "      <td>2881.666667</td>\n",
       "      <td>3</td>\n",
       "      <td>26.376667</td>\n",
       "    </tr>\n",
       "    <tr>\n",
       "      <th>5.5</th>\n",
       "      <th>0</th>\n",
       "      <td>52</td>\n",
       "      <td>153.250000</td>\n",
       "      <td>52</td>\n",
       "      <td>3590.653846</td>\n",
       "      <td>52</td>\n",
       "      <td>23.587500</td>\n",
       "    </tr>\n",
       "    <tr>\n",
       "      <th>6.0</th>\n",
       "      <th>0</th>\n",
       "      <td>2</td>\n",
       "      <td>185.000000</td>\n",
       "      <td>2</td>\n",
       "      <td>3800.000000</td>\n",
       "      <td>2</td>\n",
       "      <td>22.365000</td>\n",
       "    </tr>\n",
       "    <tr>\n",
       "      <th>6.5</th>\n",
       "      <th>0</th>\n",
       "      <td>11</td>\n",
       "      <td>167.363636</td>\n",
       "      <td>11</td>\n",
       "      <td>4114.272727</td>\n",
       "      <td>11</td>\n",
       "      <td>24.638182</td>\n",
       "    </tr>\n",
       "    <tr>\n",
       "      <th>7.0</th>\n",
       "      <th>0</th>\n",
       "      <td>2</td>\n",
       "      <td>175.000000</td>\n",
       "      <td>2</td>\n",
       "      <td>6350.000000</td>\n",
       "      <td>2</td>\n",
       "      <td>36.325000</td>\n",
       "    </tr>\n",
       "    <tr>\n",
       "      <th>7.5</th>\n",
       "      <th>0</th>\n",
       "      <td>3</td>\n",
       "      <td>205.000000</td>\n",
       "      <td>3</td>\n",
       "      <td>4765.000000</td>\n",
       "      <td>3</td>\n",
       "      <td>23.273333</td>\n",
       "    </tr>\n",
       "    <tr>\n",
       "      <th>8.5</th>\n",
       "      <th>0</th>\n",
       "      <td>1</td>\n",
       "      <td>210.000000</td>\n",
       "      <td>1</td>\n",
       "      <td>8500.000000</td>\n",
       "      <td>1</td>\n",
       "      <td>40.480000</td>\n",
       "    </tr>\n",
       "  </tbody>\n",
       "</table>\n",
       "</div>"
      ],
      "text/plain": [
       "                 area             price              price_per_m2           \n",
       "                count        mean count         mean        count       mean\n",
       "rooms luxurious                                                             \n",
       "1.0   0            50   32.920000    50  1306.220000           50  47.140400\n",
       "1.5   0            33   35.969697    33  1963.515152           33  59.417576\n",
       "2.0   0            38   55.184211    38  2120.078947           38  40.757105\n",
       "2.5   0           135   66.800000   135  2382.755556          135  37.010000\n",
       "      1             6   72.166667     6  3339.500000            6  45.978333\n",
       "3.0   0            44   68.159091    44  1964.022727           44  28.677955\n",
       "3.5   0           200   89.770000   200  2648.980000          200  29.494700\n",
       "      1             3  101.666667     3  6036.666667            3  59.826667\n",
       "4.0   0            28   98.464286    28  2852.357143           28  29.646429\n",
       "4.5   0           163  114.926380   163  3086.570552          163  26.493436\n",
       "5.0   0             3  108.000000     3  2881.666667            3  26.376667\n",
       "5.5   0            52  153.250000    52  3590.653846           52  23.587500\n",
       "6.0   0             2  185.000000     2  3800.000000            2  22.365000\n",
       "6.5   0            11  167.363636    11  4114.272727           11  24.638182\n",
       "7.0   0             2  175.000000     2  6350.000000            2  36.325000\n",
       "7.5   0             3  205.000000     3  4765.000000            3  23.273333\n",
       "8.5   0             1  210.000000     1  8500.000000            1  40.480000"
      ]
     },
     "execution_count": 14,
     "metadata": {},
     "output_type": "execute_result"
    }
   ],
   "source": [
    "# Using pivot_table to reshape the data and calculate means \n",
    "pd.pivot_table(df[['rooms', 'price', 'price_per_m2', 'area', 'luxurious']],\n",
    "               index=['rooms', 'luxurious'],\n",
    "               values=['price', 'price_per_m2', 'area'],\n",
    "               aggfunc=(np.mean, 'count'))"
   ]
  },
  {
   "cell_type": "markdown",
   "metadata": {},
   "source": [
    "### Correlation matrix"
   ]
  },
  {
   "cell_type": "code",
   "execution_count": 15,
   "metadata": {},
   "outputs": [
    {
     "data": {
      "text/html": [
       "<div>\n",
       "<style scoped>\n",
       "    .dataframe tbody tr th:only-of-type {\n",
       "        vertical-align: middle;\n",
       "    }\n",
       "\n",
       "    .dataframe tbody tr th {\n",
       "        vertical-align: top;\n",
       "    }\n",
       "\n",
       "    .dataframe thead th {\n",
       "        text-align: right;\n",
       "    }\n",
       "</style>\n",
       "<table border=\"1\" class=\"dataframe\">\n",
       "  <thead>\n",
       "    <tr style=\"text-align: right;\">\n",
       "      <th></th>\n",
       "      <th>rooms</th>\n",
       "      <th>area</th>\n",
       "      <th>price</th>\n",
       "      <th>price_per_m2</th>\n",
       "      <th>pop_dens</th>\n",
       "      <th>frg_pct</th>\n",
       "    </tr>\n",
       "  </thead>\n",
       "  <tbody>\n",
       "    <tr>\n",
       "      <th>rooms</th>\n",
       "      <td>1.000000</td>\n",
       "      <td>0.985482</td>\n",
       "      <td>0.502177</td>\n",
       "      <td>-0.488832</td>\n",
       "      <td>-0.598241</td>\n",
       "      <td>-0.684564</td>\n",
       "    </tr>\n",
       "    <tr>\n",
       "      <th>area</th>\n",
       "      <td>0.985482</td>\n",
       "      <td>1.000000</td>\n",
       "      <td>0.641669</td>\n",
       "      <td>-0.333662</td>\n",
       "      <td>-0.453513</td>\n",
       "      <td>-0.550872</td>\n",
       "    </tr>\n",
       "    <tr>\n",
       "      <th>price</th>\n",
       "      <td>0.502177</td>\n",
       "      <td>0.641669</td>\n",
       "      <td>1.000000</td>\n",
       "      <td>0.508919</td>\n",
       "      <td>0.392360</td>\n",
       "      <td>0.286408</td>\n",
       "    </tr>\n",
       "    <tr>\n",
       "      <th>price_per_m2</th>\n",
       "      <td>-0.488832</td>\n",
       "      <td>-0.333662</td>\n",
       "      <td>0.508919</td>\n",
       "      <td>1.000000</td>\n",
       "      <td>0.991304</td>\n",
       "      <td>0.970341</td>\n",
       "    </tr>\n",
       "    <tr>\n",
       "      <th>pop_dens</th>\n",
       "      <td>-0.598241</td>\n",
       "      <td>-0.453513</td>\n",
       "      <td>0.392360</td>\n",
       "      <td>0.991304</td>\n",
       "      <td>1.000000</td>\n",
       "      <td>0.993646</td>\n",
       "    </tr>\n",
       "    <tr>\n",
       "      <th>frg_pct</th>\n",
       "      <td>-0.684564</td>\n",
       "      <td>-0.550872</td>\n",
       "      <td>0.286408</td>\n",
       "      <td>0.970341</td>\n",
       "      <td>0.993646</td>\n",
       "      <td>1.000000</td>\n",
       "    </tr>\n",
       "  </tbody>\n",
       "</table>\n",
       "</div>"
      ],
      "text/plain": [
       "                 rooms      area     price  price_per_m2  pop_dens   frg_pct\n",
       "rooms         1.000000  0.985482  0.502177     -0.488832 -0.598241 -0.684564\n",
       "area          0.985482  1.000000  0.641669     -0.333662 -0.453513 -0.550872\n",
       "price         0.502177  0.641669  1.000000      0.508919  0.392360  0.286408\n",
       "price_per_m2 -0.488832 -0.333662  0.508919      1.000000  0.991304  0.970341\n",
       "pop_dens     -0.598241 -0.453513  0.392360      0.991304  1.000000  0.993646\n",
       "frg_pct      -0.684564 -0.550872  0.286408      0.970341  0.993646  1.000000"
      ]
     },
     "execution_count": 15,
     "metadata": {},
     "output_type": "execute_result"
    }
   ],
   "source": [
    "corr = df[['rooms', \n",
    "          'area', \n",
    "          'price', \n",
    "          'price_per_m2',\n",
    "          'pop_dens',\n",
    "          'frg_pct']].cov().corr()\n",
    "corr"
   ]
  },
  {
   "cell_type": "markdown",
   "metadata": {},
   "source": [
    "### Covariance matrix"
   ]
  },
  {
   "cell_type": "code",
   "execution_count": 16,
   "metadata": {},
   "outputs": [
    {
     "data": {
      "text/html": [
       "<div>\n",
       "<style scoped>\n",
       "    .dataframe tbody tr th:only-of-type {\n",
       "        vertical-align: middle;\n",
       "    }\n",
       "\n",
       "    .dataframe tbody tr th {\n",
       "        vertical-align: top;\n",
       "    }\n",
       "\n",
       "    .dataframe thead th {\n",
       "        text-align: right;\n",
       "    }\n",
       "</style>\n",
       "<table border=\"1\" class=\"dataframe\">\n",
       "  <thead>\n",
       "    <tr style=\"text-align: right;\">\n",
       "      <th></th>\n",
       "      <th>rooms</th>\n",
       "      <th>area</th>\n",
       "      <th>price</th>\n",
       "      <th>price_per_m2</th>\n",
       "      <th>pop_dens</th>\n",
       "      <th>frg_pct</th>\n",
       "    </tr>\n",
       "  </thead>\n",
       "  <tbody>\n",
       "    <tr>\n",
       "      <th>rooms</th>\n",
       "      <td>1.643649</td>\n",
       "      <td>42.404399</td>\n",
       "      <td>7.738317e+02</td>\n",
       "      <td>-9.039862</td>\n",
       "      <td>-7.015247e+02</td>\n",
       "      <td>-2.634166</td>\n",
       "    </tr>\n",
       "    <tr>\n",
       "      <th>area</th>\n",
       "      <td>42.404399</td>\n",
       "      <td>1560.960077</td>\n",
       "      <td>3.099798e+04</td>\n",
       "      <td>-268.411152</td>\n",
       "      <td>-1.807547e+04</td>\n",
       "      <td>-77.525117</td>\n",
       "    </tr>\n",
       "    <tr>\n",
       "      <th>price</th>\n",
       "      <td>773.831662</td>\n",
       "      <td>30997.977717</td>\n",
       "      <td>1.643292e+06</td>\n",
       "      <td>5480.634631</td>\n",
       "      <td>6.438886e+05</td>\n",
       "      <td>877.541024</td>\n",
       "    </tr>\n",
       "    <tr>\n",
       "      <th>price_per_m2</th>\n",
       "      <td>-9.039862</td>\n",
       "      <td>-268.411152</td>\n",
       "      <td>5.480635e+03</td>\n",
       "      <td>221.599518</td>\n",
       "      <td>1.606008e+04</td>\n",
       "      <td>39.611806</td>\n",
       "    </tr>\n",
       "    <tr>\n",
       "      <th>pop_dens</th>\n",
       "      <td>-701.524676</td>\n",
       "      <td>-18075.474981</td>\n",
       "      <td>6.438886e+05</td>\n",
       "      <td>16060.083639</td>\n",
       "      <td>3.032238e+06</td>\n",
       "      <td>8630.505180</td>\n",
       "    </tr>\n",
       "    <tr>\n",
       "      <th>frg_pct</th>\n",
       "      <td>-2.634166</td>\n",
       "      <td>-77.525117</td>\n",
       "      <td>8.775410e+02</td>\n",
       "      <td>39.611806</td>\n",
       "      <td>8.630505e+03</td>\n",
       "      <td>57.253741</td>\n",
       "    </tr>\n",
       "  </tbody>\n",
       "</table>\n",
       "</div>"
      ],
      "text/plain": [
       "                   rooms          area         price  price_per_m2  \\\n",
       "rooms           1.643649     42.404399  7.738317e+02     -9.039862   \n",
       "area           42.404399   1560.960077  3.099798e+04   -268.411152   \n",
       "price         773.831662  30997.977717  1.643292e+06   5480.634631   \n",
       "price_per_m2   -9.039862   -268.411152  5.480635e+03    221.599518   \n",
       "pop_dens     -701.524676 -18075.474981  6.438886e+05  16060.083639   \n",
       "frg_pct        -2.634166    -77.525117  8.775410e+02     39.611806   \n",
       "\n",
       "                  pop_dens      frg_pct  \n",
       "rooms        -7.015247e+02    -2.634166  \n",
       "area         -1.807547e+04   -77.525117  \n",
       "price         6.438886e+05   877.541024  \n",
       "price_per_m2  1.606008e+04    39.611806  \n",
       "pop_dens      3.032238e+06  8630.505180  \n",
       "frg_pct       8.630505e+03    57.253741  "
      ]
     },
     "execution_count": 16,
     "metadata": {},
     "output_type": "execute_result"
    }
   ],
   "source": [
    "cov = df[['rooms', \n",
    "          'area', \n",
    "          'price', \n",
    "          'price_per_m2',\n",
    "          'pop_dens',\n",
    "          'frg_pct']].cov()\n",
    "cov"
   ]
  },
  {
   "cell_type": "markdown",
   "metadata": {},
   "source": [
    "## Univariate graphical exploratory data analysis (EDA)"
   ]
  },
  {
   "cell_type": "markdown",
   "metadata": {},
   "source": [
    "### Line chart (matplotlib)"
   ]
  },
  {
   "cell_type": "code",
   "execution_count": 17,
   "metadata": {},
   "outputs": [
    {
     "data": {
      "image/png": "[encoded data removed]",
      "text/plain": [
       "<Figure size 700x400 with 1 Axes>"
      ]
     },
     "metadata": {},
     "output_type": "display_data"
    }
   ],
   "source": [
    "# Generate some useful values (time series)\n",
    "x = [1990, 1995, 2000, 2005, 2010, 2015, 2020, 2025]\n",
    "y = [100, 125, 156, 167, 175, 215, 230, 255]\n",
    "\n",
    "# Create figure\n",
    "fig = plt.figure(figsize=(7,4))\n",
    "plt.plot(x, y, color=\"green\")\n",
    "plt.title('Development of rental apartment prices', fontsize=12)\n",
    "plt.xlabel('year', fontsize=10)\n",
    "plt.ylabel('price index (1990 = 100%)', fontsize=10)\n",
    "plt.xticks(fontsize=10)\n",
    "plt.yticks(fontsize=10)\n",
    "\n",
    "plt.show()"
   ]
  },
  {
   "cell_type": "markdown",
   "metadata": {},
   "source": [
    "### Boxplot (seaborn)"
   ]
  },
  {
   "cell_type": "code",
   "execution_count": 18,
   "metadata": {},
   "outputs": [
    {
     "data": {
      "text/plain": [
       "<Axes: xlabel='area'>"
      ]
     },
     "execution_count": 18,
     "metadata": {},
     "output_type": "execute_result"
    },
    {
     "data": {
      "image/png": "[encoded data removed]",
      "text/plain": [
       "<Figure size 800x120 with 1 Axes>"
      ]
     },
     "metadata": {},
     "output_type": "display_data"
    }
   ],
   "source": [
    "plt.figure(figsize=(8,1.2))\n",
    "plt.ticklabel_format(style='plain')\n",
    "sns.boxplot(x=df['area'], color=\"greenyellow\")"
   ]
  },
  {
   "cell_type": "markdown",
   "metadata": {},
   "source": [
    "### Histogram  (matplotlib)"
   ]
  },
  {
   "cell_type": "code",
   "execution_count": 19,
   "metadata": {},
   "outputs": [
    {
     "data": {
      "image/png": "[encoded data removed]",
      "text/plain": [
       "<Figure size 700x400 with 1 Axes>"
      ]
     },
     "metadata": {},
     "output_type": "display_data"
    }
   ],
   "source": [
    "# Plot Histogram\n",
    "fig = plt.figure( figsize=(7,4))\n",
    "\n",
    "plt.xticks(fontsize=14, rotation=0)\n",
    "plt.yticks(fontsize=14, rotation=0)\n",
    "\n",
    "n, bins, patches = plt.hist(x=df['price_per_m2'], \n",
    "                            bins=25, \n",
    "                            color='#42AD12',\n",
    "                            alpha=0.5, \n",
    "                            rwidth=0.95\n",
    "                   )\n",
    "plt.grid(True)\n",
    "plt.ticklabel_format(style='plain')\n",
    "plt.grid(axis='y', alpha=0.75)\n",
    "\n",
    "# Set labels\n",
    "plt.xlabel('price_per_m2', fontsize=10, labelpad=10)\n",
    "plt.ylabel('Number of apartments', fontsize=10, labelpad=10)\n",
    "plt.title('Histogram of price_per_m2', fontsize=12, pad=10)\n",
    "\n",
    "# Set fontsize of tick labels\n",
    "plt.xticks(fontsize = 10)\n",
    "plt.yticks(fontsize = 10)\n",
    "\n",
    "plt.show()"
   ]
  },
  {
   "cell_type": "markdown",
   "metadata": {},
   "source": [
    "### Density plot  (seaborn)"
   ]
  },
  {
   "cell_type": "code",
   "execution_count": 20,
   "metadata": {},
   "outputs": [
    {
     "data": {
      "image/png": "[encoded data removed]",
      "text/plain": [
       "<Figure size 700x400 with 1 Axes>"
      ]
     },
     "metadata": {},
     "output_type": "display_data"
    }
   ],
   "source": [
    "plt.figure(figsize=(7,4))\n",
    "sns.distplot(df['price_per_m2'], \n",
    "             hist=True, \n",
    "             kde=True, \n",
    "             bins=20, \n",
    "             color = 'green',\n",
    "             hist_kws={'edgecolor':'black'},\n",
    "             kde_kws={'linewidth': 2},\n",
    "            )\n",
    "plt.title('Density plot price per m2', fontsize=12, pad=10)\n",
    "plt.xlabel('price_per_m2', fontsize=12, labelpad=10)\n",
    "plt.ylabel('Density', fontsize=12, labelpad=10)\n",
    "plt.grid(True)\n",
    "plt.show()"
   ]
  },
  {
   "cell_type": "markdown",
   "metadata": {},
   "source": [
    "### Quantile-Quantile (QQ-) plot"
   ]
  },
  {
   "cell_type": "code",
   "execution_count": 21,
   "metadata": {},
   "outputs": [
    {
     "name": "stdout",
     "output_type": "stream",
     "text": [
      "      area       var\n",
      "671    8.0 -2.047616\n",
      "183   14.0 -1.895752\n",
      "49    15.0 -1.870441\n",
      "422   15.0 -1.870441\n",
      "150   15.0 -1.870441\n",
      "..     ...       ...\n",
      "393  232.0  3.621980\n",
      "283  240.0  3.824466\n",
      "197  250.0  4.077573\n",
      "675  270.0  4.583787\n",
      "436  282.0  4.887515\n",
      "\n",
      "[774 rows x 2 columns]\n"
     ]
    },
    {
     "data": {
      "image/png": "[encoded data removed]",
      "text/plain": [
       "<Figure size 640x480 with 1 Axes>"
      ]
     },
     "metadata": {},
     "output_type": "display_data"
    }
   ],
   "source": [
    "# Variable (standardized)\n",
    "x = 'area'\n",
    "df_qq = df\n",
    "df_qq['var'] = (df[x]-df[x].mean()) / df[x].std()\n",
    "print(df_qq.sort_values('var')[['area', 'var']])\n",
    "    \n",
    "# Plot\n",
    "sm.qqplot(df_qq['var'], line ='45')\n",
    "py.show()"
   ]
  },
  {
   "cell_type": "markdown",
   "metadata": {},
   "source": [
    "### Barchart  (matplotlib)"
   ]
  },
  {
   "cell_type": "code",
   "execution_count": 22,
   "metadata": {},
   "outputs": [
    {
     "data": {
      "text/plain": [
       "[8.5, 7.0, 6.0, 7.5, 5.0, 6.5, 4.0, 1.5, 2.0, 3.0, 1.0, 5.5, 2.5, 4.5, 3.5]"
      ]
     },
     "execution_count": 22,
     "metadata": {},
     "output_type": "execute_result"
    }
   ],
   "source": [
    "# Group data by rooms (only the topmost 15 values are shown)\n",
    "df_bar = df['rooms'].value_counts().nlargest(15).sort_values(ascending=True)\n",
    "\n",
    "# Values for barchart\n",
    "napart = list(df_bar.values)\n",
    "index = list(df_bar.index.values)\n",
    "index"
   ]
  },
  {
   "cell_type": "code",
   "execution_count": 23,
   "metadata": {},
   "outputs": [
    {
     "data": {
      "image/png": "[encoded data removed]",
      "text/plain": [
       "<Figure size 700x400 with 1 Axes>"
      ]
     },
     "metadata": {},
     "output_type": "display_data"
    }
   ],
   "source": [
    "# Group data by rooms (only the topmost 15 values are shown)\n",
    "df_bar = df['rooms'].value_counts().nlargest(15).sort_values(ascending=True)\n",
    "\n",
    "# Values for barchart\n",
    "napart = list(df_bar.values)\n",
    "index = list(df_bar.index.values)\n",
    "y_pos = np.arange(len(index))\n",
    "\n",
    "# Figure\n",
    "fig, ax = plt.subplots(figsize=(7,4))\n",
    "ax.barh(y_pos, napart, align='center', color='g', alpha=0.8)\n",
    "ax.set_yticks(y_pos, index)\n",
    "ax.set_xlabel('Number of apartments', fontsize=10)\n",
    "ax.set_ylabel('Rooms', fontsize=10)\n",
    "\n",
    "# Show graph\n",
    "plt.show()"
   ]
  },
  {
   "cell_type": "markdown",
   "metadata": {},
   "source": [
    "### Piechart (matplotlib)"
   ]
  },
  {
   "cell_type": "code",
   "execution_count": null,
   "metadata": {},
   "outputs": [],
   "source": [
    "# Group data by rooms (only the 8 most frequently occurencies by rooms)\n",
    "df_bar = df.rooms.value_counts().nlargest(8).sort_values(ascending=True)\n",
    "\n",
    "# Simple bar chart\n",
    "sizes = list(df_bar.values)\n",
    "labels = list(df_bar.index.values)\n",
    "explode = (0, 0, 0, 0, 0.0, 0, 0, 0.1) # increases distance of pieces\n",
    "\n",
    "fig1, ax1 = plt.subplots(figsize=(5,5))\n",
    "ax1.pie(sizes, \n",
    "        labels=labels, \n",
    "        explode=explode,\n",
    "        autopct='%1.1f%%',\n",
    "        shadow=False, \n",
    "        startangle=90)\n",
    "ax1.axis('equal')  # ensures that pie is drawn as a circle.\n",
    "\n",
    "plt.show()"
   ]
  },
  {
   "cell_type": "markdown",
   "metadata": {},
   "source": [
    "## Multivariate graphical exploratory data analysis (EDA)"
   ]
  },
  {
   "cell_type": "markdown",
   "metadata": {},
   "source": [
    "### Scatterplot (matplotlib)"
   ]
  },
  {
   "cell_type": "code",
   "execution_count": null,
   "metadata": {},
   "outputs": [],
   "source": [
    "plt.figure(figsize=(7,4))\n",
    "plt.scatter(df['area'], \n",
    "           df['price'], \n",
    "           color=\"green\", \n",
    "           alpha=1.0,\n",
    "           s=10)\n",
    "plt.title('Scatterplot', fontsize=12)\n",
    "plt.xlabel('area (m2)')\n",
    "plt.ylabel('price (CHF)')\n",
    "plt.show()"
   ]
  },
  {
   "cell_type": "markdown",
   "metadata": {},
   "source": [
    "### Scatterplot (matplotlib) with regression line"
   ]
  },
  {
   "cell_type": "code",
   "execution_count": null,
   "metadata": {},
   "outputs": [],
   "source": [
    "# Subset\n",
    "df_sub = df.loc[(df.price >= 1000)]\n",
    "print(df_sub.shape)\n",
    "\n",
    "# Scatterplot\n",
    "plt.figure(figsize=(7,4))\n",
    "plt.plot(df_sub.area, \n",
    "         df_sub.price, \n",
    "         'o', \n",
    "         markersize=3.5,\n",
    "         color=\"green\")\n",
    "\n",
    "# Regression line (b = slope, a=intercept)\n",
    "b, a = np.polyfit(df_sub.area, df_sub.price, 1)\n",
    "print(b)\n",
    "print(a)\n",
    "\n",
    "# Plot regression line\n",
    "plt.plot(df_sub.area, \n",
    "         b*df_sub.area + a, \n",
    "         linewidth=1,\n",
    "         linestyle='dashed',\n",
    "         color='darkred')\n",
    "\n",
    "# Add title and axes labels\n",
    "plt.title('Scatterplot with regression line', fontsize=12)\n",
    "plt.ylabel('price', fontsize=12)\n",
    "plt.xlabel('area', fontsize=12)\n",
    "\n",
    "# Set fontsize of tick labels\n",
    "plt.xticks(fontsize = 10)\n",
    "plt.yticks(fontsize = 10)\n",
    "\n",
    "plt.show()"
   ]
  },
  {
   "cell_type": "markdown",
   "metadata": {},
   "source": [
    "### Scatterplot-matrix (seaborn)"
   ]
  },
  {
   "cell_type": "code",
   "execution_count": null,
   "metadata": {},
   "outputs": [],
   "source": [
    "sns.set(style=\"ticks\", font_scale=0.8)\n",
    "g = sns.PairGrid(df[['rooms', \n",
    "                     'area', \n",
    "                     'price', \n",
    "                     'price_per_m2',\n",
    "                     'pop_dens',\n",
    "                     'frg_pct']], \n",
    "                 height=1.2, \n",
    "                 aspect=1)\n",
    "g.map_upper(sns.scatterplot,color='darkgreen', s=10)\n",
    "g.map_lower(sns.scatterplot, color='darkgreen', s=10)\n",
    "g.map_diag(plt.hist, color='brown')"
   ]
  },
  {
   "cell_type": "markdown",
   "metadata": {},
   "source": [
    "### Hexagonal binning plot  (matplotlib)"
   ]
  },
  {
   "cell_type": "code",
   "execution_count": null,
   "metadata": {},
   "outputs": [],
   "source": [
    "# Subset\n",
    "df_sub = df.loc[(df.price <= 6000) & (df.area <= 200)]\n",
    "print(df_sub.shape)\n",
    "\n",
    "# Plot\n",
    "fig = plt.figure( figsize=(7,4) )\n",
    "plt.hexbin(df_sub.area, df_sub.price, gridsize=30, cmap='Greens')\n",
    "\n",
    "# Set labels\n",
    "plt.xlabel('area', fontsize=12, labelpad=10)\n",
    "plt.ylabel('price', fontsize=12, labelpad=10)\n",
    "plt.title('Two-dimensional histogram of price versus area', fontsize=12, pad=10)\n",
    "\n",
    "cb = plt.colorbar(label='count in bin')\n",
    "cb.set_label('counts in bin')"
   ]
  },
  {
   "cell_type": "markdown",
   "metadata": {},
   "source": [
    "### Correlation heatmap (seaborn)"
   ]
  },
  {
   "cell_type": "code",
   "execution_count": null,
   "metadata": {},
   "outputs": [],
   "source": [
    "# Set font size for plot\n",
    "sns.set(font_scale=0.8)\n",
    "\n",
    "# Create correlation matrix as the basis for the heatmap\n",
    "corr = df[['rooms', \n",
    "            'area', \n",
    "            'price', \n",
    "            'price_per_m2',\n",
    "            'pop_dens',\n",
    "            'frg_pct']].corr().round(2)\n",
    "print(corr)\n",
    "\n",
    "# Plot heatmap\n",
    "plt.figure(figsize=(7,4))\n",
    "sns.heatmap(corr, \n",
    "            cmap=\"BrBG\", \n",
    "            annot=False)"
   ]
  },
  {
   "cell_type": "markdown",
   "metadata": {},
   "source": [
    "### Bubble plot (seaborn)"
   ]
  },
  {
   "cell_type": "code",
   "execution_count": null,
   "metadata": {},
   "outputs": [],
   "source": [
    "# Subset of df\n",
    "df_sub = df.loc[(df['rooms'] >= 2.5) & (df['rooms'] <= 4.5)]\n",
    "\n",
    "plt.figure(figsize=(7,4))\n",
    "plt.ticklabel_format(style='plain')\n",
    "cmap = sns.cubehelix_palette(dark=.3, light=3, as_cmap=True)\n",
    "\n",
    "ax = sns.scatterplot(x=\"area\", \n",
    "                     y=\"price\",\n",
    "                     size=\"rooms\", # determines bubble size\n",
    "                     hue=\"pop_dens\",  # determines color\n",
    "                     palette=\"Set2\",\n",
    "                     data=df_sub)\n",
    "\n",
    "# Set title and axes\n",
    "ax.set_title('Price vs area', fontsize = 12)\n",
    "ax.set_xlabel('area', fontsize = 10)\n",
    "ax.set_ylabel('price', fontsize = 10)\n",
    "ax.legend([],[], frameon=False) # skip legend"
   ]
  },
  {
   "cell_type": "markdown",
   "metadata": {},
   "source": [
    "### Jupyter notebook --footer info-- (please always provide this at the end of each notebook)"
   ]
  },
  {
   "cell_type": "code",
   "execution_count": null,
   "metadata": {},
   "outputs": [],
   "source": [
    "import os\n",
    "import platform\n",
    "import socket\n",
    "from platform import python_version\n",
    "from datetime import datetime\n",
    "\n",
    "print('-----------------------------------')\n",
    "print(os.name.upper())\n",
    "print(platform.system(), '|', platform.release())\n",
    "print('Datetime:', datetime.now().strftime(\"%Y-%m-%d %H:%M:%S\"))\n",
    "print('Python Version:', python_version())\n",
    "print('-----------------------------------')"
   ]
  }
 ],
 "metadata": {
  "gist": {
   "data": {
    "description": "histogram.ipynb",
    "public": false
   },
   "id": ""
  },
  "interpreter": {
   "hash": "80dd4b6cd41cca4ee92644ecda36a6b995104716f495f2fe281559cced81c062"
  },
  "kernelspec": {
   "display_name": "Python 3 (ipykernel)",
   "language": "python",
   "name": "python3"
  },
  "language_info": {
   "codemirror_mode": {
    "name": "ipython",
    "version": 3
   },
   "file_extension": ".py",
   "mimetype": "text/x-python",
   "name": "python",
   "nbconvert_exporter": "python",
   "pygments_lexer": "ipython3",
   "version": "3.11.5"
  },
  "toc": {
   "base_numbering": 1,
   "nav_menu": {},
   "number_sections": true,
   "sideBar": true,
   "skip_h1_title": false,
   "title_cell": "Table of Contents",
   "title_sidebar": "Contents",
   "toc_cell": false,
   "toc_position": {
    "height": "calc(100% - 180px)",
    "left": "10px",
    "top": "150px",
    "width": "196.075px"
   },
   "toc_section_display": true,
   "toc_window_display": true
  }
 },
 "nbformat": 4,
 "nbformat_minor": 2
}
